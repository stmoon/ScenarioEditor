{
 "cells": [
  {
   "cell_type": "markdown",
   "metadata": {},
   "source": [
    "# Python Class"
   ]
  },
  {
   "cell_type": "code",
   "execution_count": 39,
   "metadata": {},
   "outputs": [],
   "source": [
    "class IScenarioPlugin :\n",
    "\n",
    "    _properties = {}\n",
    "    \n",
    "    def __init__(self):\n",
    "        pass\n",
    "    \n",
    "    def property(self, name) :\n",
    "        print self._properties[name]\n",
    "    \n",
    "    def setPropery(self, value) :\n",
    "        pass    \n",
    "    \n",
    "    @classmethod\n",
    "    def run(self) :\n",
    "        raise NotImplementedError\n",
    "        "
   ]
  },
  {
   "cell_type": "code",
   "execution_count": 40,
   "metadata": {
    "collapsed": true
   },
   "outputs": [],
   "source": [
    " class CircleScenarioPlugin (IScenarioPlugin) :\n",
    "        \n",
    "        def __init__(self) :\n",
    "            self._properties['radius'] = 10\n",
    "            pass\n"
   ]
  },
  {
   "cell_type": "code",
   "execution_count": 43,
   "metadata": {},
   "outputs": [
    {
     "name": "stdout",
     "output_type": "stream",
     "text": [
      "10\n"
     ]
    }
   ],
   "source": [
    "circle = CircleScenarioPlugin() \n",
    "\n",
    "circle.property('radius')"
   ]
  },
  {
   "cell_type": "markdown",
   "metadata": {},
   "source": [
    "# @property example\n",
    "\n",
    "- getter 사용시 : @property\n",
    "- setter 사용시 : @[gettermethod].setter\n",
    "- [중요] pyhton2의 경우 object를 상속받아야 사용 가능함.\n",
    "- private variable 적용 안됨"
   ]
  },
  {
   "cell_type": "code",
   "execution_count": 122,
   "metadata": {},
   "outputs": [
    {
     "name": "stdout",
     "output_type": "stream",
     "text": [
      "getter\n",
      "dddd\n"
     ]
    }
   ],
   "source": [
    "class Person(object) :\n",
    "    \n",
    "    __age = 10;\n",
    "    \n",
    "    def __init__(self, name) :\n",
    "        self._name = name\n",
    "        \n",
    "    @property\n",
    "    def name(self):\n",
    "        print 'getter'\n",
    "        return self._name\n",
    "    \n",
    "    @name.setter\n",
    "    def name(self, value):\n",
    "        print 'setter'\n",
    "        self._name = value\n",
    "        \n",
    "    def __private(self) :\n",
    "        print 'private'\n",
    "    \n",
    "\n",
    "person = Person('stmoon')\n",
    "person._name = 'dddd'\n",
    "print person.name\n",
    "person.__age = 11\n"
   ]
  },
  {
   "cell_type": "code",
   "execution_count": null,
   "metadata": {
    "collapsed": true
   },
   "outputs": [],
   "source": []
  },
  {
   "cell_type": "code",
   "execution_count": null,
   "metadata": {
    "collapsed": true
   },
   "outputs": [],
   "source": []
  },
  {
   "cell_type": "code",
   "execution_count": null,
   "metadata": {
    "collapsed": true
   },
   "outputs": [],
   "source": []
  }
 ],
 "metadata": {
  "kernelspec": {
   "display_name": "Python 2",
   "language": "python",
   "name": "python2"
  },
  "language_info": {
   "codemirror_mode": {
    "name": "ipython",
    "version": 2
   },
   "file_extension": ".py",
   "mimetype": "text/x-python",
   "name": "python",
   "nbconvert_exporter": "python",
   "pygments_lexer": "ipython2",
   "version": "2.7.12"
  }
 },
 "nbformat": 4,
 "nbformat_minor": 1
}
